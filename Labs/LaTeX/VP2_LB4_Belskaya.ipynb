{
 "cells": [
  {
   "cell_type": "markdown",
   "metadata": {},
   "source": [
    "# Лабораторная работа 4. Построение бинарного дерева поиска"
   ]
  },
  {
   "cell_type": "markdown",
   "metadata": {},
   "source": [
    "Вычислительная практика 2. ММФ. 5 группа\n",
    "Бельская Екатерина. апрель 2020"
   ]
  },
  {
   "cell_type": "code",
   "execution_count": 1,
   "metadata": {},
   "outputs": [],
   "source": [
    "import numpy as np"
   ]
  },
  {
   "cell_type": "code",
   "execution_count": 2,
   "metadata": {},
   "outputs": [],
   "source": [
    "import matplotlib.pyplot as plt\n",
    "%matplotlib inline"
   ]
  },
  {
   "cell_type": "code",
   "execution_count": 3,
   "metadata": {},
   "outputs": [],
   "source": [
    "import random as rnd"
   ]
  },
  {
   "cell_type": "markdown",
   "metadata": {},
   "source": [
    "## Описание бинарного дерева поиска"
   ]
  },
  {
   "cell_type": "markdown",
   "metadata": {},
   "source": [
    "Бинарное дерево поиска будем описывать с помощью списка. Каждая вершина дерева описывается списком из трех элементов"
   ]
  },
  {
   "cell_type": "markdown",
   "metadata": {},
   "source": [
    "* 1-ый элемент списка для вершины содержит элемент числовой последовательности source_data;\n",
    "* 2-ой элемент списка для вершины содержит левое поддерево текущей вершины в виде вложенного списка или None, если левое поддерево отсутствует;\n",
    "* 3-ий элемент списка для вершина содержит правое поддерево текущей вершины в виде вложенного списка или None, если правое поддерево отсутствует."
   ]
  },
  {
   "cell_type": "markdown",
   "metadata": {},
   "source": [
    "Отметим, что при такой структуре описания бинарное дерево поиска является описанием корневой вершины дерева."
   ]
  },
  {
   "cell_type": "markdown",
   "metadata": {},
   "source": [
    "## Пример пошагового построения бинарного дерева поиска"
   ]
  },
  {
   "cell_type": "markdown",
   "metadata": {},
   "source": [
    "Задана последовательность чисел в виде списка, которую нужно представить бинарным деревом поиска"
   ]
  },
  {
   "cell_type": "code",
   "execution_count": 4,
   "metadata": {},
   "outputs": [],
   "source": [
    "source_data = [5, 1, 10, 3, 4]"
   ]
  },
  {
   "cell_type": "markdown",
   "metadata": {},
   "source": [
    "Создаем дерево в виде одной вершины, которая содержит элемент source_data[0]"
   ]
  },
  {
   "cell_type": "code",
   "execution_count": 5,
   "metadata": {},
   "outputs": [
    {
     "data": {
      "text/plain": [
       "[5, None, None]"
      ]
     },
     "execution_count": 5,
     "metadata": {},
     "output_type": "execute_result"
    }
   ],
   "source": [
    "tree = [source_data[0], None, None]\n",
    "tree"
   ]
  },
  {
   "cell_type": "markdown",
   "metadata": {},
   "source": [
    "Создаем новую вершину с элементом source_data[1] и располагаем созданную вершину как левое поддерево корневой вершины, так как source_data[1]<source_data[0]"
   ]
  },
  {
   "cell_type": "code",
   "execution_count": 6,
   "metadata": {},
   "outputs": [
    {
     "data": {
      "text/plain": [
       "[5, [1, None, None], None]"
      ]
     },
     "execution_count": 6,
     "metadata": {},
     "output_type": "execute_result"
    }
   ],
   "source": [
    "node = [source_data[1], None, None]\n",
    "tree[1] = node\n",
    "tree"
   ]
  },
  {
   "cell_type": "markdown",
   "metadata": {},
   "source": [
    "Создаем новую вершину с элементом source_data[2] и располагаем созданную вершину как правое поддерево корневой вершины, так как source_data[2]>source_data[0]"
   ]
  },
  {
   "cell_type": "code",
   "execution_count": 7,
   "metadata": {},
   "outputs": [
    {
     "data": {
      "text/plain": [
       "[5, [1, None, None], [10, None, None]]"
      ]
     },
     "execution_count": 7,
     "metadata": {},
     "output_type": "execute_result"
    }
   ],
   "source": [
    "node = [source_data[2], None ,None]\n",
    "tree[2] = node\n",
    "tree"
   ]
  },
  {
   "cell_type": "markdown",
   "metadata": {},
   "source": [
    "Создаем новую вершину с элементом source_data[3] и располагаем созданную вершину на свободное место, начиная сравнение source_data[3] со значением корневой вершины"
   ]
  },
  {
   "cell_type": "code",
   "execution_count": 8,
   "metadata": {},
   "outputs": [
    {
     "data": {
      "text/plain": [
       "[5, [1, None, [3, None, None]], [10, None, None]]"
      ]
     },
     "execution_count": 8,
     "metadata": {},
     "output_type": "execute_result"
    }
   ],
   "source": [
    "node = [source_data[3], None, None]\n",
    "tree[1][2] = node\n",
    "tree"
   ]
  },
  {
   "cell_type": "markdown",
   "metadata": {},
   "source": [
    "Добавляем новую вершину с элементом source_data[4]"
   ]
  },
  {
   "cell_type": "code",
   "execution_count": 9,
   "metadata": {},
   "outputs": [
    {
     "data": {
      "text/plain": [
       "[5, [1, None, [3, None, [4, None, None]]], [10, None, None]]"
      ]
     },
     "execution_count": 9,
     "metadata": {},
     "output_type": "execute_result"
    }
   ],
   "source": [
    "node = [source_data[4], None, None]\n",
    "tree[1][2][2] = node\n",
    "tree\n"
   ]
  },
  {
   "cell_type": "markdown",
   "metadata": {},
   "source": [
    "### Постановка задачи"
   ]
  },
  {
   "cell_type": "markdown",
   "metadata": {},
   "source": [
    "Напишите пользовательскую функцию create_tree(source_data), которая строит бинарное дерево поиска по заданной числовой последовательности source_data."
   ]
  },
  {
   "cell_type": "markdown",
   "metadata": {},
   "source": [
    "Элементы числовой последовательности source_data необходимо обходить последовательно и добавлять в бинарное дерево поиска в виде новой вершины. Изначально числовая последовательность source_data записана в тексовый файл."
   ]
  },
  {
   "cell_type": "markdown",
   "metadata": {},
   "source": [
    "### Реализация задачи"
   ]
  },
  {
   "cell_type": "markdown",
   "metadata": {},
   "source": [
    "#### Этап 1. Чтение данных из файла"
   ]
  },
  {
   "cell_type": "markdown",
   "metadata": {},
   "source": [
    "Функция **open** создает объект файла, который обеспечивает связь с файлом, размещенным на компьютере. После вызова функции open можно выполнить операции чтения и записи во внешний файл, используя методы полученного объекта."
   ]
  },
  {
   "cell_type": "code",
   "execution_count": 10,
   "metadata": {},
   "outputs": [
    {
     "data": {
      "text/plain": [
       "_io.TextIOWrapper"
      ]
     },
     "execution_count": 10,
     "metadata": {},
     "output_type": "execute_result"
    }
   ],
   "source": [
    "f1 = open(\"VP2_LR4_data_column.txt\") # файл открыт только для чтения\n",
    "f2 = open(\"VP2_LR4_data_rows.txt\")\n",
    "type(f1)"
   ]
  },
  {
   "cell_type": "markdown",
   "metadata": {},
   "source": [
    "Объект файла имеет собственный итератор, который позволяет автоматически читать информацию из файла строку за строкой в конструкциях цикла for или в генераторах списков. Операция чтения возвращает текст в виде строки (str), поэтому необходимо выполнять преобразование в другие типы данных, например float."
   ]
  },
  {
   "cell_type": "markdown",
   "metadata": {},
   "source": [
    "Чтение из файла (числа в файле записаны в один столбец)"
   ]
  },
  {
   "cell_type": "code",
   "execution_count": 11,
   "metadata": {},
   "outputs": [],
   "source": [
    "source_data1 = [float(x) for x in f1]"
   ]
  },
  {
   "cell_type": "markdown",
   "metadata": {},
   "source": [
    "Чтение из файла (числа в файле записаны в строки и разделены пробелами)"
   ]
  },
  {
   "cell_type": "code",
   "execution_count": 12,
   "metadata": {},
   "outputs": [],
   "source": [
    "# выражение выполняется слева направо\n",
    "source_data2 = [float(x) for row in f2 for x in row.split(' ')]"
   ]
  },
  {
   "cell_type": "markdown",
   "metadata": {},
   "source": [
    "Метод **split** для строк разбивает строку на части по пробелам, которые играют роль символов-разделителей. В результате получается список строк, где каждая строка представляет отдельное число."
   ]
  },
  {
   "cell_type": "code",
   "execution_count": 13,
   "metadata": {},
   "outputs": [
    {
     "data": {
      "text/plain": [
       "([5.0, 1.0, 10.0, 3.0, 4.0], [5.0, 1.0, 10.0, 3.0, 4.0])"
      ]
     },
     "execution_count": 13,
     "metadata": {},
     "output_type": "execute_result"
    }
   ],
   "source": [
    "source_data1, source_data2"
   ]
  },
  {
   "cell_type": "markdown",
   "metadata": {},
   "source": [
    "Вызовом метода **close** завершается связь с внешним файлом"
   ]
  },
  {
   "cell_type": "code",
   "execution_count": 14,
   "metadata": {},
   "outputs": [],
   "source": [
    "f1.close(); f2.close()"
   ]
  },
  {
   "cell_type": "markdown",
   "metadata": {},
   "source": [
    "Простым способом чтения текстового файла с числовыми данными, записанными в табличном формате по столбцам (в каждой строке одинаковое количество чисел, разделенных пробелами), в массив является использование функции **loadtxt** из библиотеки **numpy**"
   ]
  },
  {
   "cell_type": "code",
   "execution_count": 15,
   "metadata": {},
   "outputs": [
    {
     "data": {
      "text/plain": [
       "array([ 5.,  1., 10.,  3.,  4.])"
      ]
     },
     "execution_count": 15,
     "metadata": {},
     "output_type": "execute_result"
    }
   ],
   "source": [
    "source_data3 = np.loadtxt(\"VP2_LR4_data_column.txt\") # числа в файле записаны в один столбец\n",
    "source_data3"
   ]
  },
  {
   "cell_type": "markdown",
   "metadata": {},
   "source": [
    "#### Этап 2. Визуализация данных"
   ]
  },
  {
   "cell_type": "markdown",
   "metadata": {},
   "source": [
    "Построим график числовых данных с помощью функции **stem**"
   ]
  },
  {
   "cell_type": "code",
   "execution_count": 43,
   "metadata": {},
   "outputs": [],
   "source": [
    "source_data = source_data3"
   ]
  },
  {
   "cell_type": "code",
   "execution_count": 44,
   "metadata": {},
   "outputs": [
    {
     "data": {
      "text/plain": [
       "array([ 5.,  1., 10.,  3.,  4.])"
      ]
     },
     "execution_count": 44,
     "metadata": {},
     "output_type": "execute_result"
    }
   ],
   "source": [
    "source_data"
   ]
  },
  {
   "cell_type": "code",
   "execution_count": 45,
   "metadata": {},
   "outputs": [
    {
     "data": {
      "text/plain": [
       "<matplotlib.legend.Legend at 0x20db43e2088>"
      ]
     },
     "execution_count": 45,
     "metadata": {},
     "output_type": "execute_result"
    },
    {
     "data": {
      "image/png": "[encoded data removed]",
      "text/plain": [
       "<Figure size 432x288 with 1 Axes>"
      ]
     },
     "metadata": {
      "needs_background": "light"
     },
     "output_type": "display_data"
    }
   ],
   "source": [
    "plt.stem(source_data, use_line_collection=True)\n",
    "plt.title('Sequence of given numbers')\n",
    "plt.legend(['Initial data'])"
   ]
  },
  {
   "cell_type": "markdown",
   "metadata": {},
   "source": [
    "#### Этап 3. Реализация функции create_tree(source_data) для создания бинарного дерева поиска"
   ]
  },
  {
   "cell_type": "markdown",
   "metadata": {},
   "source": [
    "Пример возможной реализации пользовательской функции create_tree(source_data)"
   ]
  },
  {
   "cell_type": "code",
   "execution_count": 46,
   "metadata": {},
   "outputs": [],
   "source": [
    "def create_node(node):\n",
    "    \"\"\" создаёт вершину дерева и 2 ветки \n",
    "    \n",
    "        Arguments:\n",
    "        node -- число\n",
    "                        \n",
    "        Returns: соответсвующий список    \n",
    "    \"\"\"\n",
    "    return [node, None, None]"
   ]
  },
  {
   "cell_type": "code",
   "execution_count": 47,
   "metadata": {},
   "outputs": [],
   "source": [
    "def insert_node(tree, element):\n",
    "    \"\"\" рекурсивная вставка вершины в дерево \n",
    "    \n",
    "        Arguments:\n",
    "        tree -- старое дерево\n",
    "        element -- элемент для вставки\n",
    "                        \n",
    "        Returns: новое дерево с вставленной вершиной   \n",
    "    \"\"\"\n",
    "    element = create_node(element) #создание будущей вершины\n",
    "    if tree[0] == None: # дерево ещё пустое\n",
    "        return element\n",
    "    # проверки на принадлежность к веткам\n",
    "    if tree[0] > element[0]:\n",
    "        if tree[1] is None:\n",
    "            tree[1] = element\n",
    "        else:\n",
    "            tree[1] = insert_node(tree[1], element[0])\n",
    "    else:\n",
    "        if tree[2] is None:\n",
    "            tree[2] = element\n",
    "        else:\n",
    "            tree[2] = insert_node(tree[2], element[0])\n",
    "    return tree"
   ]
  },
  {
   "cell_type": "code",
   "execution_count": 48,
   "metadata": {},
   "outputs": [],
   "source": [
    "def create_tree(source_data):\n",
    "    \"\"\" создает бинарное дерева поиска по входной числовой последовательности в виде вложенного списка и возвращает дерево\n",
    "    \n",
    "        Arguments:\n",
    "        source_data -- список или массив чисел\n",
    "                        \n",
    "        Returns: вложенный список, представляющий бинарное дерево поиска для заданной последовательности  \n",
    "    \"\"\"\n",
    "    tree = [None]\n",
    "    for element in source_data:\n",
    "        tree = insert_node(tree, element)\n",
    "    return tree"
   ]
  },
  {
   "cell_type": "code",
   "execution_count": 49,
   "metadata": {},
   "outputs": [
    {
     "data": {
      "text/plain": [
       "[5.0, [1.0, None, [3.0, None, [4.0, None, None]]], [10.0, None, None]]"
      ]
     },
     "execution_count": 49,
     "metadata": {},
     "output_type": "execute_result"
    }
   ],
   "source": [
    "create_tree(source_data)"
   ]
  },
  {
   "cell_type": "markdown",
   "metadata": {},
   "source": [
    "#### Этап 4. Создание пользовательской функции insert_tree(tree, new_element) для вставки элемента new_element в бинарное дерево поиска tree"
   ]
  },
  {
   "cell_type": "markdown",
   "metadata": {},
   "source": [
    "Воможен следующий **рекурсивный** алгоритм вставки вершины в дерево:"
   ]
  },
  {
   "cell_type": "markdown",
   "metadata": {},
   "source": [
    "* Необходимо найти родительскую вершину для new_element, т.е. такую вершину, которая имеет свободную связь для подцепления новой вершины без нарушения структуры дерева. Поиск родительской вершины можно реализовать *рекурсивно*, вызывая функцию insert_node(sub_tree, new_element) для поддерева sub_tree дерева tree внутри функции insert_node(tree, new_element) при движении по дереву сверху вниз.\n",
    "* После того, как родительская вершина найдена:\n",
    "    * если new_element < parent_element, то необходимо заменить None для левого поддерева родительской вершины на список [new_element, None, None];\n",
    "    * если new_element <= parent_element, то необходимо заменить None для правого поддерева родительской вершины на список [new_element, None, None]."
   ]
  },
  {
   "cell_type": "markdown",
   "metadata": {},
   "source": [
    "#### Этап 5. Создание бинарного дерева поиска"
   ]
  },
  {
   "cell_type": "code",
   "execution_count": 50,
   "metadata": {},
   "outputs": [
    {
     "data": {
      "text/plain": [
       "[5.0, [1.0, None, [3.0, None, [4.0, None, None]]], [10.0, None, None]]"
      ]
     },
     "execution_count": 50,
     "metadata": {},
     "output_type": "execute_result"
    }
   ],
   "source": [
    "tree = create_tree(source_data)\n",
    "tree"
   ]
  },
  {
   "cell_type": "markdown",
   "metadata": {},
   "source": [
    "#### Этап 6* (необязательное задание). Удаление вершины из дерева"
   ]
  },
  {
   "cell_type": "code",
   "execution_count": 51,
   "metadata": {},
   "outputs": [],
   "source": [
    "def search_for_node(subtree):\n",
    "    \"\"\" находит минимальный элемент из нужного поддерева, который будет использоваться для замены\n",
    "    \n",
    "        Arguments:\n",
    "        subtree -- правое поддерево\n",
    "                        \n",
    "        Returns: соответствующий список\n",
    "    \"\"\"\n",
    "    el = subtree\n",
    "    while(el[1] is not None): \n",
    "        el = el[1]\n",
    "    return el"
   ]
  },
  {
   "cell_type": "code",
   "execution_count": 52,
   "metadata": {},
   "outputs": [],
   "source": [
    "def delete_element(tree, element):\n",
    "    \"\"\" удаление элемента в исходном дереве\n",
    "    \n",
    "        Arguments:\n",
    "        tree -- исходное дерево\n",
    "        element -- элемент для удаления\n",
    "                        \n",
    "        Returns: измененное дерево (без элемента, необходимого для удаления)\n",
    "    \"\"\"\n",
    "    if tree is None:\n",
    "        return tree\n",
    "    # нахождение нужного узла\n",
    "    if element < tree[0]:\n",
    "        tree[1] = delete_element(tree[1], element)\n",
    "    elif element > tree[0]:\n",
    "        tree [2] = delete_element(tree[2], element)\n",
    "    # когда узел был найден, для удаления необходимо рассмотреть следующие случаи\n",
    "    else:\n",
    "        # у удаляемого узла нет ни правого, ни левого ребенка.\n",
    "        if tree[1] is None and tree[2] is None:\n",
    "            tree = None\n",
    "            return tree\n",
    "        # у удаляемого узла нет левого ребенка\n",
    "        if tree[1] is None:\n",
    "            sub = tree[2]\n",
    "            tree = None\n",
    "            return sub\n",
    "        # у удаляемого узла нет правого ребенка\n",
    "        if tree[2] is None:\n",
    "            sub = tree[1]\n",
    "            tree = None\n",
    "            return sub\n",
    "        # у удаляемого 2 ребенка, в таком случае происходит поиск\n",
    "        # минимального элемента для замены\n",
    "        sub = search_for_node(tree[2])\n",
    "        tree[0] = sub[0] #заменяем удаляемое значение значением найденного минимального элемента\n",
    "        # удаляем поддерево соответствующее данному минимальному элементу\n",
    "        tree[2] = delete_element(tree[2], sub[0])\n",
    "    return tree"
   ]
  },
  {
   "cell_type": "code",
   "execution_count": 53,
   "metadata": {},
   "outputs": [],
   "source": [
    "test_tree = tree"
   ]
  },
  {
   "cell_type": "code",
   "execution_count": 27,
   "metadata": {},
   "outputs": [
    {
     "data": {
      "text/plain": [
       "[10.0, [1.0, None, [3.0, None, [4.0, None, None]]], None]"
      ]
     },
     "execution_count": 27,
     "metadata": {},
     "output_type": "execute_result"
    }
   ],
   "source": [
    "delete_element(test_tree, float(5))\n",
    "test_tree"
   ]
  },
  {
   "cell_type": "markdown",
   "metadata": {},
   "source": [
    "# Лабораторная работа №5"
   ]
  },
  {
   "cell_type": "markdown",
   "metadata": {},
   "source": [
    "## Задание 1. Центрированный обход бинарного дерева поиска"
   ]
  },
  {
   "cell_type": "markdown",
   "metadata": {},
   "source": [
    "Написать пользовательскую функцию LCR(tree), которая для бинарного дерева поиска tree реализует центрированный обход. Результатом функции должен быть список чисел, отсортированный по возрастанию. Реализовать обход дерева с помощью рекурсии. Написать строки документирования для пользовательской функции."
   ]
  },
  {
   "cell_type": "markdown",
   "metadata": {},
   "source": [
    "Построить в одной графической области список из $10^3$ случайных чисел, равномерно распределенных на отрезке $[0,100]$, и список, полученный после центрированного обхода бинарного дерева поиска, созданного на основе исходного списка."
   ]
  },
  {
   "cell_type": "markdown",
   "metadata": {},
   "source": [
    "### Реализация"
   ]
  },
  {
   "cell_type": "code",
   "execution_count": 28,
   "metadata": {},
   "outputs": [],
   "source": [
    "def LCR(tree):\n",
    "    \"\"\" реализация центрированного обхода исходного дерева \n",
    "    \n",
    "        Arguments:\n",
    "        tree -- исходное дерево\n",
    "                        \n",
    "        Returns: список чисел, отсортированный по возрастанию\n",
    "    \"\"\"\n",
    "    l = []\n",
    "    if tree:\n",
    "        # рекурсивный обход сначала левого поддерева, добавление вершины,\n",
    "        # обход правого поддерева\n",
    "        l = LCR(tree[1])\n",
    "        l.append(tree[0])\n",
    "        l = l + LCR(tree[2])\n",
    "    return l"
   ]
  },
  {
   "cell_type": "code",
   "execution_count": 29,
   "metadata": {},
   "outputs": [
    {
     "data": {
      "text/plain": [
       "[10.0, [1.0, None, [3.0, None, [4.0, None, None]]], None]"
      ]
     },
     "execution_count": 29,
     "metadata": {},
     "output_type": "execute_result"
    }
   ],
   "source": [
    "test_tree"
   ]
  },
  {
   "cell_type": "code",
   "execution_count": 30,
   "metadata": {},
   "outputs": [
    {
     "data": {
      "text/plain": [
       "[1.0, 3.0, 4.0, 10.0]"
      ]
     },
     "execution_count": 30,
     "metadata": {},
     "output_type": "execute_result"
    }
   ],
   "source": [
    "LCR(test_tree)\n"
   ]
  },
  {
   "cell_type": "markdown",
   "metadata": {},
   "source": [
    "Создадим исходный список из $10^3$ случайных чисел, равномерно распределенных на отрезке $[0,100]$"
   ]
  },
  {
   "cell_type": "code",
   "execution_count": 31,
   "metadata": {},
   "outputs": [],
   "source": [
    "source_data = [rnd.uniform(0,100) for i in range(10**3)]"
   ]
  },
  {
   "cell_type": "markdown",
   "metadata": {},
   "source": [
    "Создадим бинарное дерево поиска на основе исходного списка"
   ]
  },
  {
   "cell_type": "code",
   "execution_count": 32,
   "metadata": {},
   "outputs": [],
   "source": [
    "tree = create_tree(source_data)"
   ]
  },
  {
   "cell_type": "markdown",
   "metadata": {},
   "source": [
    "Сделаем центрированный обход созданного бинарного дерева"
   ]
  },
  {
   "cell_type": "code",
   "execution_count": 33,
   "metadata": {},
   "outputs": [],
   "source": [
    "sorted_data = LCR(tree)"
   ]
  },
  {
   "cell_type": "markdown",
   "metadata": {},
   "source": [
    "Строим в одной графической области значения исходной последовательности и отсортированной последовательности"
   ]
  },
  {
   "cell_type": "code",
   "execution_count": 34,
   "metadata": {},
   "outputs": [
    {
     "data": {
      "text/plain": [
       "<matplotlib.legend.Legend at 0x20db4369f88>"
      ]
     },
     "execution_count": 34,
     "metadata": {},
     "output_type": "execute_result"
    },
    {
     "data": {
      "image/png": "[encoded data removed]",
      "text/plain": [
       "<Figure size 432x288 with 1 Axes>"
      ]
     },
     "metadata": {
      "needs_background": "light"
     },
     "output_type": "display_data"
    }
   ],
   "source": [
    "plt.plot(source_data,'r.', label='Initial data')\n",
    "plt.plot(sorted_data,'g.',label='Sorted data')\n",
    "plt.title('Sequences of numbers')\n",
    "plt.legend()"
   ]
  },
  {
   "cell_type": "markdown",
   "metadata": {},
   "source": [
    "## Задание 2. Нахождение минимального и максимального значения"
   ]
  },
  {
   "cell_type": "markdown",
   "metadata": {},
   "source": [
    "Написать пользовательские функции min(tree) и max(tree) для нахождения минимального и максимального значений бинарного дерева поиска tree. Реализовать функции с помощью рекурсии. Написать строки документирования для пользовательских функций."
   ]
  },
  {
   "cell_type": "markdown",
   "metadata": {},
   "source": [
    "### Реализация"
   ]
  },
  {
   "cell_type": "code",
   "execution_count": 35,
   "metadata": {},
   "outputs": [
    {
     "data": {
      "text/plain": [
       "[10.0, [1.0, None, [3.0, None, [4.0, None, None]]], None]"
      ]
     },
     "execution_count": 35,
     "metadata": {},
     "output_type": "execute_result"
    }
   ],
   "source": [
    "test_tree"
   ]
  },
  {
   "cell_type": "code",
   "execution_count": 36,
   "metadata": {},
   "outputs": [],
   "source": [
    "def find_min(tree):\n",
    "    \"\"\" нахождение минимального значения бинарного дерева поиска\n",
    "    \n",
    "        Arguments:\n",
    "        tree -- исходное дерево\n",
    "                        \n",
    "        Returns: минимальное значение\n",
    "    \"\"\"\n",
    "    if tree[1] is None: \n",
    "        return tree[0] \n",
    "    return find_min(tree[1]) "
   ]
  },
  {
   "cell_type": "code",
   "execution_count": 37,
   "metadata": {},
   "outputs": [
    {
     "data": {
      "text/plain": [
       "6.461761568044011e-05"
      ]
     },
     "execution_count": 37,
     "metadata": {},
     "output_type": "execute_result"
    }
   ],
   "source": [
    "min_value = find_min(tree)\n",
    "min_value"
   ]
  },
  {
   "cell_type": "code",
   "execution_count": 38,
   "metadata": {},
   "outputs": [],
   "source": [
    "def find_max(tree):\n",
    "    \"\"\" нахождение максимального значения бинарного дерева поиска\n",
    "    \n",
    "        Arguments:\n",
    "        tree -- исходное дерево\n",
    "                        \n",
    "        Returns: максимальное значение\n",
    "    \"\"\"\n",
    "    if tree[2] is None: \n",
    "        return tree[0] \n",
    "    return find_max(tree[2]) "
   ]
  },
  {
   "cell_type": "code",
   "execution_count": 39,
   "metadata": {},
   "outputs": [
    {
     "data": {
      "text/plain": [
       "99.85723099812446"
      ]
     },
     "execution_count": 39,
     "metadata": {},
     "output_type": "execute_result"
    }
   ],
   "source": [
    "max_value = find_max(tree)\n",
    "max_value"
   ]
  }
 ],
 "metadata": {
  "kernelspec": {
   "display_name": "Python 3",
   "language": "python",
   "name": "python3"
  },
  "language_info": {
   "codemirror_mode": {
    "name": "ipython",
    "version": 3
   },
   "file_extension": ".py",
   "mimetype": "text/x-python",
   "name": "python",
   "nbconvert_exporter": "python",
   "pygments_lexer": "ipython3",
   "version": "3.7.4"
  }
 },
 "nbformat": 4,
 "nbformat_minor": 2
}
